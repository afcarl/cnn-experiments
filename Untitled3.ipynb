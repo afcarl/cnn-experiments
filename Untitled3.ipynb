{
 "cells": [
  {
   "cell_type": "code",
   "execution_count": 1,
   "metadata": {},
   "outputs": [
    {
     "name": "stderr",
     "output_type": "stream",
     "text": [
      "Using TensorFlow backend.\n"
     ]
    },
    {
     "name": "stdout",
     "output_type": "stream",
     "text": [
      "Train on 500 samples, validate on 100 samples\n",
      "Epoch 1/4\n",
      "500/500 [==============================] - 4s 7ms/step - loss: 0.4006 - acc: 0.8280 - val_loss: 0.3651 - val_acc: 0.8800 \n",
      "Epoch 2/4\n",
      "500/500 [==============================] - 3s 6ms/step - loss: 0.1924 - acc: 0.9300 - val_loss: 0.2759 - val_acc: 0.8900\n",
      "Epoch 3/4\n",
      "500/500 [==============================] - 3s 6ms/step - loss: 0.1540 - acc: 0.9480 - val_loss: 0.2637 - val_acc: 0.8900\n",
      "Epoch 4/4\n",
      "500/500 [==============================] - 3s 6ms/step - loss: 0.1320 - acc: 0.9540 - val_loss: 0.2604 - val_acc: 0.9200\n"
     ]
    }
   ],
   "source": [
    "import scipy.io as sio\n",
    "import urllib.request\n",
    "\n",
    "import keras\n",
    "from keras.models import Sequential\n",
    "from keras.layers import Dense, Dropout, Flatten\n",
    "from keras.layers import Conv2D, MaxPooling2D\n",
    "\n",
    "urllib.request.urlretrieve(\"https://s3.amazonaws.com/assets.datacamp.com/production/course_6052/datasets/fashion.mat\", \"fashion.mat\")\n",
    "\n",
    "_mat = sio.loadmat('fashion.mat')\n",
    "x_train = _mat['x_train']\n",
    "x_test = _mat['x_test']\n",
    "x_valid = _mat['x_valid']\n",
    "y_train = _mat['y_train']\n",
    "y_test = _mat['y_test']\n",
    "y_valid = _mat['y_valid']\n",
    "\n",
    "img_rows = 28\n",
    "img_cols = 28\n",
    "batch_size = 10\n",
    "epochs = 4\n",
    "num_classes = 3\n",
    "input_shape = (img_rows, img_cols, 1)\n",
    "\n",
    "model = Sequential()\n",
    "model.add(Conv2D(32, kernel_size=(3, 3),\n",
    "                 activation='relu',\n",
    "                 input_shape=input_shape))\n",
    "model.add(Conv2D(64, (3, 3), activation='relu'))\n",
    "model.add(MaxPooling2D(pool_size=(2, 2)))\n",
    "model.add(Dropout(0.25))\n",
    "model.add(Flatten())\n",
    "model.add(Dense(128, activation='relu'))\n",
    "model.add(Dropout(0.5))\n",
    "model.add(Dense(num_classes, activation='softmax'))\n",
    "\n",
    "model.compile(loss=keras.losses.categorical_crossentropy,\n",
    "              optimizer=keras.optimizers.Adadelta(),\n",
    "              metrics=['accuracy'])\n",
    "\n",
    "model.fit(x_train, y_train,\n",
    "          batch_size=batch_size,\n",
    "          epochs=epochs,\n",
    "          verbose=1,\n",
    "          validation_data=(x_test, y_test))\n",
    "\n",
    "score = model.evaluate(x_valid, y_valid, verbose=0)\n",
    "\n"
   ]
  },
  {
   "cell_type": "code",
   "execution_count": 2,
   "metadata": {},
   "outputs": [
    {
     "data": {
      "text/plain": [
       "[0.24502538919448852, 0.90000000000000002]"
      ]
     },
     "execution_count": 2,
     "metadata": {},
     "output_type": "execute_result"
    }
   ],
   "source": [
    "score"
   ]
  },
  {
   "cell_type": "code",
   "execution_count": null,
   "metadata": {
    "collapsed": true
   },
   "outputs": [],
   "source": [
    "model.evaluate()"
   ]
  },
  {
   "cell_type": "code",
   "execution_count": 3,
   "metadata": {
    "collapsed": true
   },
   "outputs": [],
   "source": [
    "import tensorflow as tf"
   ]
  },
  {
   "cell_type": "code",
   "execution_count": 4,
   "metadata": {},
   "outputs": [
    {
     "data": {
      "text/plain": [
       "'1.4.0'"
      ]
     },
     "execution_count": 4,
     "metadata": {},
     "output_type": "execute_result"
    }
   ],
   "source": [
    "tf.__version__\n"
   ]
  },
  {
   "cell_type": "code",
   "execution_count": null,
   "metadata": {
    "collapsed": true
   },
   "outputs": [],
   "source": []
  }
 ],
 "metadata": {
  "kernelspec": {
   "display_name": "Python 3",
   "language": "python",
   "name": "python3"
  },
  "language_info": {
   "codemirror_mode": {
    "name": "ipython",
    "version": 3
   },
   "file_extension": ".py",
   "mimetype": "text/x-python",
   "name": "python",
   "nbconvert_exporter": "python",
   "pygments_lexer": "ipython3",
   "version": "3.5.4"
  }
 },
 "nbformat": 4,
 "nbformat_minor": 2
}
